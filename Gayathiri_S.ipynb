{
  "nbformat": 4,
  "nbformat_minor": 0,
  "metadata": {
    "colab": {
      "name": "Copy of Gayathiri_S.ipynb",
      "provenance": [],
      "collapsed_sections": [],
      "authorship_tag": "ABX9TyMd2+XA5LLTC7qLyfLMKB8b",
      "include_colab_link": true
    },
    "kernelspec": {
      "name": "python3",
      "display_name": "Python 3"
    },
    "language_info": {
      "name": "python"
    }
  },
  "cells": [
    {
      "cell_type": "markdown",
      "metadata": {
        "id": "view-in-github",
        "colab_type": "text"
      },
      "source": [
        "<a href=\"https://colab.research.google.com/github/Gayathiri316/Gayathiri316/blob/main/Gayathiri_S.ipynb\" target=\"_parent\"><img src=\"https://colab.research.google.com/assets/colab-badge.svg\" alt=\"Open In Colab\"/></a>"
      ]
    },
    {
      "cell_type": "code",
      "metadata": {
        "id": "fcne2SKqszEC"
      },
      "source": [
        "From keras.datasets import mnist \n",
        " \n",
        "data=mnist.load_data()\n",
        " \n",
        "((x_train,y_train),(x_test,y_test))=data\n",
        "x_train=x_train.reshape((x_train.shape[0],28*28)).astype('float32')\n",
        "x_test=x_test.reshape((x_test.shape[0],28*28)).astype('float32')\n",
        " \n",
        "x_train=x_train/255\n",
        "x_test=x_test/255\n",
        " \n",
        "from keras.utils import np_utils\n",
        "Print(y_test.shape)\n",
        "Y_train=np_utils.to_categorical(y_train)\n",
        "Y_test=np_utils.to_categorical(y_test)\n",
        " \n",
        "num_classes=y_test.shape[1]\n",
        "Print(num_classes)\n",
        " \n",
        "From keras.models import sequential \n",
        "From keras.layers import Dense\n",
        " \n",
        "model=Sequential()\n",
        "model.add(Dense(32,input_dim=28*28,activation='relu'))\n",
        "model.add(Dense(64,activation='relu'))\n",
        "model.add(Dense(10,activation='softmax'))\n",
        " \n",
        "model.comile(loss='categorical_crossentropy',optimizer='admon',metrics=['accuracy'])\n",
        " \n",
        " \n",
        "model.summary()\n",
        " \n",
        " \n",
        "model.fit(x_train,y_train,epochs=10,batch_size=100)\n",
        " \n",
        "score=model.evaluate(X_test,y_test)\n",
        "Print(score)"
      ],
      "execution_count": null,
      "outputs": []
    }
  ]
}